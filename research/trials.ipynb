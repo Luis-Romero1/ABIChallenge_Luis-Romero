{
 "cells": [
  {
   "cell_type": "code",
   "execution_count": 11,
   "metadata": {},
   "outputs": [
    {
     "name": "stdout",
     "output_type": "stream",
     "text": [
      "Collecting requests\n",
      "  Downloading requests-2.32.3-py3-none-any.whl (64 kB)\n",
      "     ---------------------------------------- 64.9/64.9 KB 1.2 MB/s eta 0:00:00\n",
      "Collecting idna<4,>=2.5\n",
      "  Downloading idna-3.7-py3-none-any.whl (66 kB)\n",
      "     ---------------------------------------- 66.8/66.8 KB 3.5 MB/s eta 0:00:00\n",
      "Collecting certifi>=2017.4.17\n",
      "  Downloading certifi-2024.7.4-py3-none-any.whl (162 kB)\n",
      "     -------------------------------------- 163.0/163.0 KB 3.2 MB/s eta 0:00:00\n",
      "Collecting charset-normalizer<4,>=2\n",
      "  Using cached charset_normalizer-3.3.2-cp39-cp39-win_amd64.whl (100 kB)\n",
      "Collecting urllib3<3,>=1.21.1\n",
      "  Downloading urllib3-2.2.2-py3-none-any.whl (121 kB)\n",
      "     -------------------------------------- 121.4/121.4 KB 7.4 MB/s eta 0:00:00\n",
      "Installing collected packages: urllib3, idna, charset-normalizer, certifi, requests\n",
      "Successfully installed certifi-2024.7.4 charset-normalizer-3.3.2 idna-3.7 requests-2.32.3 urllib3-2.2.2\n"
     ]
    },
    {
     "name": "stderr",
     "output_type": "stream",
     "text": [
      "WARNING: You are using pip version 22.0.4; however, version 24.2 is available.\n",
      "You should consider upgrading via the 'C:\\Users\\luisd\\OneDrive\\Escritorio\\proyecto trabajo\\proyecto_final_trabajo\\infraproy\\Scripts\\python.exe -m pip install --upgrade pip' command.\n"
     ]
    }
   ],
   "source": [
    "#! pip install pandas\n",
    "# ! pip install scikit-learn\n",
    "# ! pip install python-dotenv\n",
    "! pip install requests"
   ]
  },
  {
   "cell_type": "code",
   "execution_count": 5,
   "metadata": {},
   "outputs": [
    {
     "name": "stdout",
     "output_type": "stream",
     "text": [
      "Iris dataset saved as 'iris_dataset.csv'\n"
     ]
    }
   ],
   "source": [
    "# Import necessary libraries\n",
    "import pandas as pd\n",
    "from sklearn.datasets import load_iris\n",
    "\n",
    "# Load the iris dataset\n",
    "iris = load_iris()\n",
    "\n",
    "# Convert the dataset to a DataFrame\n",
    "iris_df = pd.DataFrame(data=iris.data, columns=iris.feature_names)\n",
    "\n",
    "# Add the target column (species) to the DataFrame\n",
    "iris_df['species'] = iris.target\n",
    "\n",
    "# Save the DataFrame to a CSV file locally\n",
    "iris_df.to_csv('iris_dataset.csv', index=False)\n",
    "\n",
    "print(\"Iris dataset saved as 'iris_dataset.csv'\")"
   ]
  },
  {
   "cell_type": "code",
   "execution_count": 8,
   "metadata": {},
   "outputs": [
    {
     "data": {
      "text/plain": [
       "True"
      ]
     },
     "execution_count": 8,
     "metadata": {},
     "output_type": "execute_result"
    }
   ],
   "source": [
    "from dotenv import load_dotenv\n",
    "load_dotenv()"
   ]
  },
  {
   "cell_type": "code",
   "execution_count": 1,
   "metadata": {},
   "outputs": [],
   "source": [
    "import os\n",
    "os.chdir(\"../\")"
   ]
  },
  {
   "cell_type": "code",
   "execution_count": 7,
   "metadata": {},
   "outputs": [
    {
     "ename": "NameError",
     "evalue": "name 'self' is not defined",
     "output_type": "error",
     "traceback": [
      "\u001b[1;31m---------------------------------------------------------------------------\u001b[0m",
      "\u001b[1;31mNameError\u001b[0m                                 Traceback (most recent call last)",
      "Cell \u001b[1;32mIn[7], line 2\u001b[0m\n\u001b[0;32m      1\u001b[0m \u001b[38;5;66;03m# pwd()\u001b[39;00m\n\u001b[1;32m----> 2\u001b[0m os\u001b[38;5;241m.\u001b[39mmakedirs(\u001b[38;5;28;43mself\u001b[39;49m\u001b[38;5;241m.\u001b[39mconf[\u001b[38;5;124m\"\u001b[39m\u001b[38;5;124mroot_dir\u001b[39m\u001b[38;5;124m\"\u001b[39m], exist_ok\u001b[38;5;241m=\u001b[39m\u001b[38;5;28;01mTrue\u001b[39;00m)\n",
      "\u001b[1;31mNameError\u001b[0m: name 'self' is not defined"
     ]
    }
   ],
   "source": [
    "# pwd()\n",
    "os.makedirs(self.conf[\"root_dir\"], exist_ok=True)"
   ]
  },
  {
   "cell_type": "code",
   "execution_count": 8,
   "metadata": {},
   "outputs": [
    {
     "name": "stdout",
     "output_type": "stream",
     "text": [
      "Collecting flask\n",
      "  Downloading flask-3.0.3-py3-none-any.whl (101 kB)\n",
      "     -------------------------------------- 101.7/101.7 KB 2.0 MB/s eta 0:00:00\n",
      "Collecting Jinja2>=3.1.2\n",
      "  Downloading jinja2-3.1.4-py3-none-any.whl (133 kB)\n",
      "     -------------------------------------- 133.3/133.3 KB 3.8 MB/s eta 0:00:00\n",
      "Collecting click>=8.1.3\n",
      "  Using cached click-8.1.7-py3-none-any.whl (97 kB)\n",
      "Collecting blinker>=1.6.2\n",
      "  Downloading blinker-1.8.2-py3-none-any.whl (9.5 kB)\n",
      "Collecting Werkzeug>=3.0.0\n",
      "  Downloading werkzeug-3.0.3-py3-none-any.whl (227 kB)\n",
      "     ------------------------------------- 227.3/227.3 KB 14.5 MB/s eta 0:00:00\n",
      "Collecting itsdangerous>=2.1.2\n",
      "  Downloading itsdangerous-2.2.0-py3-none-any.whl (16 kB)\n",
      "Requirement already satisfied: importlib-metadata>=3.6.0 in c:\\users\\luisd\\onedrive\\escritorio\\proyecto trabajo\\proyecto_final_trabajo\\infraproy\\lib\\site-packages (from flask) (8.2.0)\n",
      "Requirement already satisfied: colorama in c:\\users\\luisd\\onedrive\\escritorio\\proyecto trabajo\\proyecto_final_trabajo\\infraproy\\lib\\site-packages (from click>=8.1.3->flask) (0.4.6)\n",
      "Requirement already satisfied: zipp>=0.5 in c:\\users\\luisd\\onedrive\\escritorio\\proyecto trabajo\\proyecto_final_trabajo\\infraproy\\lib\\site-packages (from importlib-metadata>=3.6.0->flask) (3.20.0)\n",
      "Collecting MarkupSafe>=2.0\n",
      "  Downloading MarkupSafe-2.1.5-cp39-cp39-win_amd64.whl (17 kB)\n",
      "Installing collected packages: MarkupSafe, itsdangerous, click, blinker, Werkzeug, Jinja2, flask\n",
      "Successfully installed Jinja2-3.1.4 MarkupSafe-2.1.5 Werkzeug-3.0.3 blinker-1.8.2 click-8.1.7 flask-3.0.3 itsdangerous-2.2.0\n"
     ]
    },
    {
     "name": "stderr",
     "output_type": "stream",
     "text": [
      "WARNING: You are using pip version 22.0.4; however, version 24.2 is available.\n",
      "You should consider upgrading via the 'C:\\Users\\luisd\\OneDrive\\Escritorio\\proyecto trabajo\\proyecto_final_trabajo\\infraproy\\Scripts\\python.exe -m pip install --upgrade pip' command.\n"
     ]
    }
   ],
   "source": [
    "# ! pip install pyyaml\n",
    "#! pip install -e .\n",
    "# ! pip install ensure\n",
    "# ! pip install mysql-connector-python\n",
    "# ! pip freeze\n",
    "! pip install flask"
   ]
  },
  {
   "cell_type": "code",
   "execution_count": 2,
   "metadata": {},
   "outputs": [
    {
     "name": "stdout",
     "output_type": "stream",
     "text": [
      "[2024-08-15 15:11:51,116: INFO: common: yaml file: config\\config.yaml loaded successfully]\n",
      "[2024-08-15 15:11:51,118: INFO: common: yaml file: params.yaml loaded successfully]\n"
     ]
    }
   ],
   "source": [
    "from Classifier.constants import *\n",
    "from Classifier.utils.common import read_yaml, create_directories\n",
    "\n",
    "config_filepath = CONFIG_FILE_PATH\n",
    "params_filepath = PARAMS_FILE_PATH\n",
    "\n",
    "config = read_yaml(config_filepath)\n",
    "params = read_yaml(params_filepath)"
   ]
  },
  {
   "cell_type": "code",
   "execution_count": 4,
   "metadata": {},
   "outputs": [],
   "source": [
    "class ConfigurationManager():\n",
    "    def __init__(self,\n",
    "        config_filepath = CONFIG_FILE_PATH,\n",
    "        params_filepath = PARAMS_FILE_PATH):\n",
    "\n",
    "        self.config = read_yaml(config_filepath)\n",
    "        self.params = read_yaml(params_filepath)\n",
    "\n",
    "        create_directories([self.config[\"artifact_root\"]])\n",
    "\n",
    "\n",
    "    \n",
    "    def get_data_ingestion_config(self):\n",
    "        config = self.config[\"data_extraction\"]\n",
    "\n",
    "        data_ingestion_config = {\"user\":os.getenv(\"DB_USER\"),\n",
    "            \"password\":os.getenv(\"DB_PASSWORD\"),\n",
    "            \"host\":os.getenv(\"DB_HOST\"),\n",
    "            \"database\":config[\"database\"],\n",
    "            \"table\":config[\"table\"] }\n",
    "\n",
    "        return data_ingestion_config\n",
    "    \n",
    "\n",
    "    def get_data_training_config(self):\n",
    "        \n",
    "        data_training_config = self.params\n",
    "\n",
    "        return data_training_config\n"
   ]
  },
  {
   "cell_type": "code",
   "execution_count": 5,
   "metadata": {},
   "outputs": [
    {
     "name": "stdout",
     "output_type": "stream",
     "text": [
      "[2024-08-15 15:12:13,494: INFO: common: yaml file: config\\config.yaml loaded successfully]\n",
      "[2024-08-15 15:12:13,496: INFO: common: yaml file: params.yaml loaded successfully]\n",
      "[2024-08-15 15:12:13,497: INFO: common: created directory at: artifacts]\n"
     ]
    },
    {
     "data": {
      "text/plain": [
       "{'user': 'iris1',\n",
       " 'password': 'Xi25_PS6iww9os?z3',\n",
       " 'host': '127.0.0.1',\n",
       " 'database': 'iris_db',\n",
       " 'table': 'iris_dataset'}"
      ]
     },
     "execution_count": 5,
     "metadata": {},
     "output_type": "execute_result"
    }
   ],
   "source": [
    "z=ConfigurationManager().get_data_ingestion_config()\n",
    "z"
   ]
  },
  {
   "cell_type": "code",
   "execution_count": 6,
   "metadata": {},
   "outputs": [
    {
     "name": "stdout",
     "output_type": "stream",
     "text": [
      "{'user': 'iris1', 'password': 'Xi25_PS6iww9os?z3', 'host': '127.0.0.1', 'database': 'iris_db', 'table': 'iris_dataset'}\n",
      "SELECT * FROM iris_dataset\n"
     ]
    },
    {
     "data": {
      "text/plain": [
       "[(5.1, 3.5, 1.4, 0.2, 0.0),\n",
       " (4.9, 3.0, 1.4, 0.2, 0.0),\n",
       " (4.7, 3.2, 1.3, 0.2, 0.0),\n",
       " (4.6, 3.1, 1.5, 0.2, 0.0),\n",
       " (5.0, 3.6, 1.4, 0.2, 0.0),\n",
       " (5.4, 3.9, 1.7, 0.4, 0.0),\n",
       " (4.6, 3.4, 1.4, 0.3, 0.0),\n",
       " (5.0, 3.4, 1.5, 0.2, 0.0),\n",
       " (4.4, 2.9, 1.4, 0.2, 0.0),\n",
       " (4.9, 3.1, 1.5, 0.1, 0.0),\n",
       " (5.4, 3.7, 1.5, 0.2, 0.0),\n",
       " (4.8, 3.4, 1.6, 0.2, 0.0),\n",
       " (4.8, 3.0, 1.4, 0.1, 0.0),\n",
       " (4.3, 3.0, 1.1, 0.1, 0.0),\n",
       " (5.8, 4.0, 1.2, 0.2, 0.0),\n",
       " (5.7, 4.4, 1.5, 0.4, 0.0),\n",
       " (5.4, 3.9, 1.3, 0.4, 0.0),\n",
       " (5.1, 3.5, 1.4, 0.3, 0.0),\n",
       " (5.7, 3.8, 1.7, 0.3, 0.0),\n",
       " (5.1, 3.8, 1.5, 0.3, 0.0),\n",
       " (5.4, 3.4, 1.7, 0.2, 0.0),\n",
       " (5.1, 3.7, 1.5, 0.4, 0.0),\n",
       " (4.6, 3.6, 1.0, 0.2, 0.0),\n",
       " (5.1, 3.3, 1.7, 0.5, 0.0),\n",
       " (4.8, 3.4, 1.9, 0.2, 0.0),\n",
       " (5.0, 3.0, 1.6, 0.2, 0.0),\n",
       " (5.0, 3.4, 1.6, 0.4, 0.0),\n",
       " (5.2, 3.5, 1.5, 0.2, 0.0),\n",
       " (5.2, 3.4, 1.4, 0.2, 0.0),\n",
       " (4.7, 3.2, 1.6, 0.2, 0.0),\n",
       " (4.8, 3.1, 1.6, 0.2, 0.0),\n",
       " (5.4, 3.4, 1.5, 0.4, 0.0),\n",
       " (5.2, 4.1, 1.5, 0.1, 0.0),\n",
       " (5.5, 4.2, 1.4, 0.2, 0.0),\n",
       " (4.9, 3.1, 1.5, 0.2, 0.0),\n",
       " (5.0, 3.2, 1.2, 0.2, 0.0),\n",
       " (5.5, 3.5, 1.3, 0.2, 0.0),\n",
       " (4.9, 3.6, 1.4, 0.1, 0.0),\n",
       " (4.4, 3.0, 1.3, 0.2, 0.0),\n",
       " (5.1, 3.4, 1.5, 0.2, 0.0),\n",
       " (5.0, 3.5, 1.3, 0.3, 0.0),\n",
       " (4.5, 2.3, 1.3, 0.3, 0.0),\n",
       " (4.4, 3.2, 1.3, 0.2, 0.0),\n",
       " (5.0, 3.5, 1.6, 0.6, 0.0),\n",
       " (5.1, 3.8, 1.9, 0.4, 0.0),\n",
       " (4.8, 3.0, 1.4, 0.3, 0.0),\n",
       " (5.1, 3.8, 1.6, 0.2, 0.0),\n",
       " (4.6, 3.2, 1.4, 0.2, 0.0),\n",
       " (5.3, 3.7, 1.5, 0.2, 0.0),\n",
       " (5.0, 3.3, 1.4, 0.2, 0.0),\n",
       " (7.0, 3.2, 4.7, 1.4, 1.0),\n",
       " (6.4, 3.2, 4.5, 1.5, 1.0),\n",
       " (6.9, 3.1, 4.9, 1.5, 1.0),\n",
       " (5.5, 2.3, 4.0, 1.3, 1.0),\n",
       " (6.5, 2.8, 4.6, 1.5, 1.0),\n",
       " (5.7, 2.8, 4.5, 1.3, 1.0),\n",
       " (6.3, 3.3, 4.7, 1.6, 1.0),\n",
       " (4.9, 2.4, 3.3, 1.0, 1.0),\n",
       " (6.6, 2.9, 4.6, 1.3, 1.0),\n",
       " (5.2, 2.7, 3.9, 1.4, 1.0),\n",
       " (5.0, 2.0, 3.5, 1.0, 1.0),\n",
       " (5.9, 3.0, 4.2, 1.5, 1.0),\n",
       " (6.0, 2.2, 4.0, 1.0, 1.0),\n",
       " (6.1, 2.9, 4.7, 1.4, 1.0),\n",
       " (5.6, 2.9, 3.6, 1.3, 1.0),\n",
       " (6.7, 3.1, 4.4, 1.4, 1.0),\n",
       " (5.6, 3.0, 4.5, 1.5, 1.0),\n",
       " (5.8, 2.7, 4.1, 1.0, 1.0),\n",
       " (6.2, 2.2, 4.5, 1.5, 1.0),\n",
       " (5.6, 2.5, 3.9, 1.1, 1.0),\n",
       " (5.9, 3.2, 4.8, 1.8, 1.0),\n",
       " (6.1, 2.8, 4.0, 1.3, 1.0),\n",
       " (6.3, 2.5, 4.9, 1.5, 1.0),\n",
       " (6.1, 2.8, 4.7, 1.2, 1.0),\n",
       " (6.4, 2.9, 4.3, 1.3, 1.0),\n",
       " (6.6, 3.0, 4.4, 1.4, 1.0),\n",
       " (6.8, 2.8, 4.8, 1.4, 1.0),\n",
       " (6.7, 3.0, 5.0, 1.7, 1.0),\n",
       " (6.0, 2.9, 4.5, 1.5, 1.0),\n",
       " (5.7, 2.6, 3.5, 1.0, 1.0),\n",
       " (5.5, 2.4, 3.8, 1.1, 1.0),\n",
       " (5.5, 2.4, 3.7, 1.0, 1.0),\n",
       " (5.8, 2.7, 3.9, 1.2, 1.0),\n",
       " (6.0, 2.7, 5.1, 1.6, 1.0),\n",
       " (5.4, 3.0, 4.5, 1.5, 1.0),\n",
       " (6.0, 3.4, 4.5, 1.6, 1.0),\n",
       " (6.7, 3.1, 4.7, 1.5, 1.0),\n",
       " (6.3, 2.3, 4.4, 1.3, 1.0),\n",
       " (5.6, 3.0, 4.1, 1.3, 1.0),\n",
       " (5.5, 2.5, 4.0, 1.3, 1.0),\n",
       " (5.5, 2.6, 4.4, 1.2, 1.0),\n",
       " (6.1, 3.0, 4.6, 1.4, 1.0),\n",
       " (5.8, 2.6, 4.0, 1.2, 1.0),\n",
       " (5.0, 2.3, 3.3, 1.0, 1.0),\n",
       " (5.6, 2.7, 4.2, 1.3, 1.0),\n",
       " (5.7, 3.0, 4.2, 1.2, 1.0),\n",
       " (5.7, 2.9, 4.2, 1.3, 1.0),\n",
       " (6.2, 2.9, 4.3, 1.3, 1.0),\n",
       " (5.1, 2.5, 3.0, 1.1, 1.0),\n",
       " (5.7, 2.8, 4.1, 1.3, 1.0),\n",
       " (6.3, 3.3, 6.0, 2.5, 2.0),\n",
       " (5.8, 2.7, 5.1, 1.9, 2.0),\n",
       " (7.1, 3.0, 5.9, 2.1, 2.0),\n",
       " (6.3, 2.9, 5.6, 1.8, 2.0),\n",
       " (6.5, 3.0, 5.8, 2.2, 2.0),\n",
       " (7.6, 3.0, 6.6, 2.1, 2.0),\n",
       " (4.9, 2.5, 4.5, 1.7, 2.0),\n",
       " (7.3, 2.9, 6.3, 1.8, 2.0),\n",
       " (6.7, 2.5, 5.8, 1.8, 2.0),\n",
       " (7.2, 3.6, 6.1, 2.5, 2.0),\n",
       " (6.5, 3.2, 5.1, 2.0, 2.0),\n",
       " (6.4, 2.7, 5.3, 1.9, 2.0),\n",
       " (6.8, 3.0, 5.5, 2.1, 2.0),\n",
       " (5.7, 2.5, 5.0, 2.0, 2.0),\n",
       " (5.8, 2.8, 5.1, 2.4, 2.0),\n",
       " (6.4, 3.2, 5.3, 2.3, 2.0),\n",
       " (6.5, 3.0, 5.5, 1.8, 2.0),\n",
       " (7.7, 3.8, 6.7, 2.2, 2.0),\n",
       " (7.7, 2.6, 6.9, 2.3, 2.0),\n",
       " (6.0, 2.2, 5.0, 1.5, 2.0),\n",
       " (6.9, 3.2, 5.7, 2.3, 2.0),\n",
       " (5.6, 2.8, 4.9, 2.0, 2.0),\n",
       " (7.7, 2.8, 6.7, 2.0, 2.0),\n",
       " (6.3, 2.7, 4.9, 1.8, 2.0),\n",
       " (6.7, 3.3, 5.7, 2.1, 2.0),\n",
       " (7.2, 3.2, 6.0, 1.8, 2.0),\n",
       " (6.2, 2.8, 4.8, 1.8, 2.0),\n",
       " (6.1, 3.0, 4.9, 1.8, 2.0),\n",
       " (6.4, 2.8, 5.6, 2.1, 2.0),\n",
       " (7.2, 3.0, 5.8, 1.6, 2.0),\n",
       " (7.4, 2.8, 6.1, 1.9, 2.0),\n",
       " (7.9, 3.8, 6.4, 2.0, 2.0),\n",
       " (6.4, 2.8, 5.6, 2.2, 2.0),\n",
       " (6.3, 2.8, 5.1, 1.5, 2.0),\n",
       " (6.1, 2.6, 5.6, 1.4, 2.0),\n",
       " (7.7, 3.0, 6.1, 2.3, 2.0),\n",
       " (6.3, 3.4, 5.6, 2.4, 2.0),\n",
       " (6.4, 3.1, 5.5, 1.8, 2.0),\n",
       " (6.0, 3.0, 4.8, 1.8, 2.0),\n",
       " (6.9, 3.1, 5.4, 2.1, 2.0),\n",
       " (6.7, 3.1, 5.6, 2.4, 2.0),\n",
       " (6.9, 3.1, 5.1, 2.3, 2.0),\n",
       " (5.8, 2.7, 5.1, 1.9, 2.0),\n",
       " (6.8, 3.2, 5.9, 2.3, 2.0),\n",
       " (6.7, 3.3, 5.7, 2.5, 2.0),\n",
       " (6.7, 3.0, 5.2, 2.3, 2.0),\n",
       " (6.3, 2.5, 5.0, 1.9, 2.0),\n",
       " (6.5, 3.0, 5.2, 2.0, 2.0),\n",
       " (6.2, 3.4, 5.4, 2.3, 2.0),\n",
       " (5.9, 3.0, 5.1, 1.8, 2.0)]"
      ]
     },
     "execution_count": 6,
     "metadata": {},
     "output_type": "execute_result"
    }
   ],
   "source": [
    "from Classifier.utils.common import extract_workbench\n",
    "\n",
    "extract_workbench(z)"
   ]
  },
  {
   "cell_type": "code",
   "execution_count": 10,
   "metadata": {},
   "outputs": [
    {
     "name": "stdout",
     "output_type": "stream",
     "text": [
      "[2024-08-15 10:48:26,200: INFO: common: yaml file: config\\config.yaml loaded successfully]\n",
      "[2024-08-15 10:48:26,209: INFO: common: yaml file: params.yaml loaded successfully]\n",
      "[2024-08-15 10:48:26,210: INFO: common: created directory at: artifacts]\n"
     ]
    },
    {
     "data": {
      "text/plain": [
       "{'parameter_lr': {'algo__solver': ['liblinear', 'newton-cg'],\n",
       "  'algo__C': [0.001, 0.01, 0.1, 0.5, 1]}}"
      ]
     },
     "execution_count": 10,
     "metadata": {},
     "output_type": "execute_result"
    }
   ],
   "source": [
    "\n",
    "\n",
    "ConfigurationManager().get_data_training_config()"
   ]
  },
  {
   "cell_type": "code",
   "execution_count": 15,
   "metadata": {},
   "outputs": [
    {
     "name": "stdout",
     "output_type": "stream",
     "text": [
      "Predicciones: {'predictions': [0.0, 2.0]}\n"
     ]
    }
   ],
   "source": [
    "import requests\n",
    "\n",
    "url = 'http://localhost:5000/predict'\n",
    "data = {\n",
    "    \"inputs\": [\n",
    "        [5.1, 3.5, 1.4, 0.2],\n",
    "        [6.2, 3.4, 5.4, 2.3]\n",
    "    ]\n",
    "}\n",
    "\n",
    "response = requests.post(url, json=data)\n",
    "print(\"Predicciones:\", response.json())"
   ]
  },
  {
   "cell_type": "code",
   "execution_count": 13,
   "metadata": {},
   "outputs": [
    {
     "data": {
      "text/plain": [
       "1723777372.1837752"
      ]
     },
     "execution_count": 13,
     "metadata": {},
     "output_type": "execute_result"
    }
   ],
   "source": [
    "import time\n",
    "time.time()"
   ]
  },
  {
   "cell_type": "code",
   "execution_count": null,
   "metadata": {},
   "outputs": [],
   "source": [
    "\n",
    "\n",
    "\n",
    "# class predict():\n",
    "#     def __init__(self,config):\n",
    "#         self.config = config\n",
    "   \n",
    "\n",
    "\n",
    "#     def predict_api(self):\n",
    "   \n",
    "#         app = Flask(__name__)\n",
    "#         # Cargar el modelo entrenado\n",
    "#         # with open(\"model.pkl\", \"rb\") as f:\n",
    "#         #     model = pickle.load(f)\n",
    "\n",
    "#         clf_rf = joblib.load('modelo_entrenado.pkl') #\n",
    "\n",
    "#         # Conectar a la base de datos\n",
    "#         db = mysql.connector.connect(\n",
    "#             host=\"localhost\",\n",
    "#             user=os.getenv(\"MYSQL_USER\"),\n",
    "#             password=os.getenv(\"MYSQL_PASSWORD\"),\n",
    "#             database=os.getenv(\"MYSQL_DATABASE\")\n",
    "#         )\n",
    "#         cursor = db.cursor()\n",
    "\n",
    "#         @app.route('/predict', methods=['POST'])\n",
    "#         def predict():\n",
    "#             data = request.json\n",
    "#             inputs = data['inputs']\n",
    "#             predictions = model.predict(inputs)\n",
    "\n",
    "#             # Guardar las predicciones y entradas en la base de datos\n",
    "#             for i, pred in enumerate(predictions):\n",
    "#                 cursor.execute(\"\"\"\n",
    "#                     INSERT INTO predictions (sepal_length, sepal_width, petal_length, petal_width, predicted_species)\n",
    "#                     VALUES (%s, %s, %s, %s, %s)\n",
    "#                 \"\"\", (*inputs[i], pred))\n",
    "#             db.commit()\n",
    "\n",
    "#             return jsonify({'predictions': predictions.tolist()})\n",
    "\n",
    "#         if __name__ == '__main__':\n",
    "#             app.run(debug=True)\n"
   ]
  }
 ],
 "metadata": {
  "kernelspec": {
   "display_name": "infraproy",
   "language": "python",
   "name": "python3"
  },
  "language_info": {
   "codemirror_mode": {
    "name": "ipython",
    "version": 3
   },
   "file_extension": ".py",
   "mimetype": "text/x-python",
   "name": "python",
   "nbconvert_exporter": "python",
   "pygments_lexer": "ipython3",
   "version": "3.9.13"
  }
 },
 "nbformat": 4,
 "nbformat_minor": 2
}
