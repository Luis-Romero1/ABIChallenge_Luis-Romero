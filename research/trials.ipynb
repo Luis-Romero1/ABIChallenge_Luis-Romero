{
 "cells": [
  {
   "cell_type": "code",
   "execution_count": 5,
   "metadata": {},
   "outputs": [],
   "source": [
    "#! pip install pandas\n",
    "# ! pip install scikit-learn\n",
    "# ! pip install python-dotenv\n",
    "# ! pip install requests\n",
    "# ! pip install pyyaml\n",
    "#! pip install -e .\n",
    "# ! pip install ensure\n",
    "# ! pip install mysql-connector-python\n",
    "# ! pip freeze\n",
    "# ! pip install flask\n",
    "# ! pip install boto3\n",
    "# ! pip install sagemaker"
   ]
  },
  {
   "cell_type": "code",
   "execution_count": 5,
   "metadata": {},
   "outputs": [
    {
     "name": "stdout",
     "output_type": "stream",
     "text": [
      "Iris dataset saved as 'iris_dataset.csv'\n"
     ]
    }
   ],
   "source": [
    "# Import necessary libraries\n",
    "import pandas as pd\n",
    "from sklearn.datasets import load_iris\n",
    "\n",
    "# Load the iris dataset\n",
    "iris = load_iris()\n",
    "\n",
    "# Convert the dataset to a DataFrame\n",
    "iris_df = pd.DataFrame(data=iris.data, columns=iris.feature_names)\n",
    "\n",
    "# Add the target column (species) to the DataFrame\n",
    "iris_df['species'] = iris.target\n",
    "\n",
    "# Save the DataFrame to a CSV file locally\n",
    "iris_df.to_csv('iris_dataset.csv', index=False)\n",
    "\n",
    "print(\"Iris dataset saved as 'iris_dataset.csv'\")"
   ]
  },
  {
   "cell_type": "code",
   "execution_count": 8,
   "metadata": {},
   "outputs": [
    {
     "data": {
      "text/plain": [
       "True"
      ]
     },
     "execution_count": 8,
     "metadata": {},
     "output_type": "execute_result"
    }
   ],
   "source": [
    "from dotenv import load_dotenv\n",
    "load_dotenv()"
   ]
  },
  {
   "cell_type": "code",
   "execution_count": 1,
   "metadata": {},
   "outputs": [],
   "source": [
    "import os\n",
    "os.chdir(\"../\")"
   ]
  },
  {
   "cell_type": "code",
   "execution_count": 2,
   "metadata": {},
   "outputs": [
    {
     "name": "stdout",
     "output_type": "stream",
     "text": [
      "[2024-08-15 15:11:51,116: INFO: common: yaml file: config\\config.yaml loaded successfully]\n",
      "[2024-08-15 15:11:51,118: INFO: common: yaml file: params.yaml loaded successfully]\n"
     ]
    }
   ],
   "source": [
    "from Classifier.constants import *\n",
    "from Classifier.utils.common import read_yaml, create_directories\n",
    "\n",
    "config_filepath = CONFIG_FILE_PATH\n",
    "params_filepath = PARAMS_FILE_PATH\n",
    "\n",
    "config = read_yaml(config_filepath)\n",
    "params = read_yaml(params_filepath)"
   ]
  },
  {
   "cell_type": "code",
   "execution_count": 4,
   "metadata": {},
   "outputs": [],
   "source": [
    "class ConfigurationManager():\n",
    "    def __init__(self,\n",
    "        config_filepath = CONFIG_FILE_PATH,\n",
    "        params_filepath = PARAMS_FILE_PATH):\n",
    "\n",
    "        self.config = read_yaml(config_filepath)\n",
    "        self.params = read_yaml(params_filepath)\n",
    "\n",
    "        create_directories([self.config[\"artifact_root\"]])\n",
    "\n",
    "\n",
    "    \n",
    "    def get_data_ingestion_config(self):\n",
    "        config = self.config[\"data_extraction\"]\n",
    "\n",
    "        data_ingestion_config = {\"user\":os.getenv(\"DB_USER\"),\n",
    "            \"password\":os.getenv(\"DB_PASSWORD\"),\n",
    "            \"host\":os.getenv(\"DB_HOST\"),\n",
    "            \"database\":config[\"database\"],\n",
    "            \"table\":config[\"table\"] }\n",
    "\n",
    "        return data_ingestion_config\n",
    "    \n",
    "\n",
    "    def get_data_training_config(self):\n",
    "        \n",
    "        data_training_config = self.params\n",
    "\n",
    "        return data_training_config\n"
   ]
  },
  {
   "cell_type": "code",
   "execution_count": 5,
   "metadata": {},
   "outputs": [
    {
     "name": "stdout",
     "output_type": "stream",
     "text": [
      "[2024-08-15 15:12:13,494: INFO: common: yaml file: config\\config.yaml loaded successfully]\n",
      "[2024-08-15 15:12:13,496: INFO: common: yaml file: params.yaml loaded successfully]\n",
      "[2024-08-15 15:12:13,497: INFO: common: created directory at: artifacts]\n"
     ]
    },
    {
     "data": {
      "text/plain": [
       "{'user': 'iris1',\n",
       " 'password': 'Xi25_PS6iww9os?z3',\n",
       " 'host': '127.0.0.1',\n",
       " 'database': 'iris_db',\n",
       " 'table': 'iris_dataset'}"
      ]
     },
     "execution_count": 5,
     "metadata": {},
     "output_type": "execute_result"
    }
   ],
   "source": [
    "z=ConfigurationManager().get_data_ingestion_config()\n",
    "z"
   ]
  },
  {
   "cell_type": "code",
   "execution_count": 6,
   "metadata": {},
   "outputs": [
    {
     "name": "stdout",
     "output_type": "stream",
     "text": [
      "{'user': 'iris1', 'password': 'Xi25_PS6iww9os?z3', 'host': '127.0.0.1', 'database': 'iris_db', 'table': 'iris_dataset'}\n",
      "SELECT * FROM iris_dataset\n"
     ]
    },
    {
     "data": {
      "text/plain": [
       "[(5.1, 3.5, 1.4, 0.2, 0.0),\n",
       " (4.9, 3.0, 1.4, 0.2, 0.0),\n",
       " (4.7, 3.2, 1.3, 0.2, 0.0),\n",
       " (4.6, 3.1, 1.5, 0.2, 0.0),\n",
       " (5.0, 3.6, 1.4, 0.2, 0.0),\n",
       " (5.4, 3.9, 1.7, 0.4, 0.0),\n",
       " (4.6, 3.4, 1.4, 0.3, 0.0),\n",
       " (5.0, 3.4, 1.5, 0.2, 0.0),\n",
       " (4.4, 2.9, 1.4, 0.2, 0.0),\n",
       " (4.9, 3.1, 1.5, 0.1, 0.0),\n",
       " (5.4, 3.7, 1.5, 0.2, 0.0),\n",
       " (4.8, 3.4, 1.6, 0.2, 0.0),\n",
       " (4.8, 3.0, 1.4, 0.1, 0.0),\n",
       " (4.3, 3.0, 1.1, 0.1, 0.0),\n",
       " (5.8, 4.0, 1.2, 0.2, 0.0),\n",
       " (5.7, 4.4, 1.5, 0.4, 0.0),\n",
       " (5.4, 3.9, 1.3, 0.4, 0.0),\n",
       " (5.1, 3.5, 1.4, 0.3, 0.0),\n",
       " (5.7, 3.8, 1.7, 0.3, 0.0),\n",
       " (5.1, 3.8, 1.5, 0.3, 0.0),\n",
       " (5.4, 3.4, 1.7, 0.2, 0.0),\n",
       " (5.1, 3.7, 1.5, 0.4, 0.0),\n",
       " (4.6, 3.6, 1.0, 0.2, 0.0),\n",
       " (5.1, 3.3, 1.7, 0.5, 0.0),\n",
       " (4.8, 3.4, 1.9, 0.2, 0.0),\n",
       " (5.0, 3.0, 1.6, 0.2, 0.0),\n",
       " (5.0, 3.4, 1.6, 0.4, 0.0),\n",
       " (5.2, 3.5, 1.5, 0.2, 0.0),\n",
       " (5.2, 3.4, 1.4, 0.2, 0.0),\n",
       " (4.7, 3.2, 1.6, 0.2, 0.0),\n",
       " (4.8, 3.1, 1.6, 0.2, 0.0),\n",
       " (5.4, 3.4, 1.5, 0.4, 0.0),\n",
       " (5.2, 4.1, 1.5, 0.1, 0.0),\n",
       " (5.5, 4.2, 1.4, 0.2, 0.0),\n",
       " (4.9, 3.1, 1.5, 0.2, 0.0),\n",
       " (5.0, 3.2, 1.2, 0.2, 0.0),\n",
       " (5.5, 3.5, 1.3, 0.2, 0.0),\n",
       " (4.9, 3.6, 1.4, 0.1, 0.0),\n",
       " (4.4, 3.0, 1.3, 0.2, 0.0),\n",
       " (5.1, 3.4, 1.5, 0.2, 0.0),\n",
       " (5.0, 3.5, 1.3, 0.3, 0.0),\n",
       " (4.5, 2.3, 1.3, 0.3, 0.0),\n",
       " (4.4, 3.2, 1.3, 0.2, 0.0),\n",
       " (5.0, 3.5, 1.6, 0.6, 0.0),\n",
       " (5.1, 3.8, 1.9, 0.4, 0.0),\n",
       " (4.8, 3.0, 1.4, 0.3, 0.0),\n",
       " (5.1, 3.8, 1.6, 0.2, 0.0),\n",
       " (4.6, 3.2, 1.4, 0.2, 0.0),\n",
       " (5.3, 3.7, 1.5, 0.2, 0.0),\n",
       " (5.0, 3.3, 1.4, 0.2, 0.0),\n",
       " (7.0, 3.2, 4.7, 1.4, 1.0),\n",
       " (6.4, 3.2, 4.5, 1.5, 1.0),\n",
       " (6.9, 3.1, 4.9, 1.5, 1.0),\n",
       " (5.5, 2.3, 4.0, 1.3, 1.0),\n",
       " (6.5, 2.8, 4.6, 1.5, 1.0),\n",
       " (5.7, 2.8, 4.5, 1.3, 1.0),\n",
       " (6.3, 3.3, 4.7, 1.6, 1.0),\n",
       " (4.9, 2.4, 3.3, 1.0, 1.0),\n",
       " (6.6, 2.9, 4.6, 1.3, 1.0),\n",
       " (5.2, 2.7, 3.9, 1.4, 1.0),\n",
       " (5.0, 2.0, 3.5, 1.0, 1.0),\n",
       " (5.9, 3.0, 4.2, 1.5, 1.0),\n",
       " (6.0, 2.2, 4.0, 1.0, 1.0),\n",
       " (6.1, 2.9, 4.7, 1.4, 1.0),\n",
       " (5.6, 2.9, 3.6, 1.3, 1.0),\n",
       " (6.7, 3.1, 4.4, 1.4, 1.0),\n",
       " (5.6, 3.0, 4.5, 1.5, 1.0),\n",
       " (5.8, 2.7, 4.1, 1.0, 1.0),\n",
       " (6.2, 2.2, 4.5, 1.5, 1.0),\n",
       " (5.6, 2.5, 3.9, 1.1, 1.0),\n",
       " (5.9, 3.2, 4.8, 1.8, 1.0),\n",
       " (6.1, 2.8, 4.0, 1.3, 1.0),\n",
       " (6.3, 2.5, 4.9, 1.5, 1.0),\n",
       " (6.1, 2.8, 4.7, 1.2, 1.0),\n",
       " (6.4, 2.9, 4.3, 1.3, 1.0),\n",
       " (6.6, 3.0, 4.4, 1.4, 1.0),\n",
       " (6.8, 2.8, 4.8, 1.4, 1.0),\n",
       " (6.7, 3.0, 5.0, 1.7, 1.0),\n",
       " (6.0, 2.9, 4.5, 1.5, 1.0),\n",
       " (5.7, 2.6, 3.5, 1.0, 1.0),\n",
       " (5.5, 2.4, 3.8, 1.1, 1.0),\n",
       " (5.5, 2.4, 3.7, 1.0, 1.0),\n",
       " (5.8, 2.7, 3.9, 1.2, 1.0),\n",
       " (6.0, 2.7, 5.1, 1.6, 1.0),\n",
       " (5.4, 3.0, 4.5, 1.5, 1.0),\n",
       " (6.0, 3.4, 4.5, 1.6, 1.0),\n",
       " (6.7, 3.1, 4.7, 1.5, 1.0),\n",
       " (6.3, 2.3, 4.4, 1.3, 1.0),\n",
       " (5.6, 3.0, 4.1, 1.3, 1.0),\n",
       " (5.5, 2.5, 4.0, 1.3, 1.0),\n",
       " (5.5, 2.6, 4.4, 1.2, 1.0),\n",
       " (6.1, 3.0, 4.6, 1.4, 1.0),\n",
       " (5.8, 2.6, 4.0, 1.2, 1.0),\n",
       " (5.0, 2.3, 3.3, 1.0, 1.0),\n",
       " (5.6, 2.7, 4.2, 1.3, 1.0),\n",
       " (5.7, 3.0, 4.2, 1.2, 1.0),\n",
       " (5.7, 2.9, 4.2, 1.3, 1.0),\n",
       " (6.2, 2.9, 4.3, 1.3, 1.0),\n",
       " (5.1, 2.5, 3.0, 1.1, 1.0),\n",
       " (5.7, 2.8, 4.1, 1.3, 1.0),\n",
       " (6.3, 3.3, 6.0, 2.5, 2.0),\n",
       " (5.8, 2.7, 5.1, 1.9, 2.0),\n",
       " (7.1, 3.0, 5.9, 2.1, 2.0),\n",
       " (6.3, 2.9, 5.6, 1.8, 2.0),\n",
       " (6.5, 3.0, 5.8, 2.2, 2.0),\n",
       " (7.6, 3.0, 6.6, 2.1, 2.0),\n",
       " (4.9, 2.5, 4.5, 1.7, 2.0),\n",
       " (7.3, 2.9, 6.3, 1.8, 2.0),\n",
       " (6.7, 2.5, 5.8, 1.8, 2.0),\n",
       " (7.2, 3.6, 6.1, 2.5, 2.0),\n",
       " (6.5, 3.2, 5.1, 2.0, 2.0),\n",
       " (6.4, 2.7, 5.3, 1.9, 2.0),\n",
       " (6.8, 3.0, 5.5, 2.1, 2.0),\n",
       " (5.7, 2.5, 5.0, 2.0, 2.0),\n",
       " (5.8, 2.8, 5.1, 2.4, 2.0),\n",
       " (6.4, 3.2, 5.3, 2.3, 2.0),\n",
       " (6.5, 3.0, 5.5, 1.8, 2.0),\n",
       " (7.7, 3.8, 6.7, 2.2, 2.0),\n",
       " (7.7, 2.6, 6.9, 2.3, 2.0),\n",
       " (6.0, 2.2, 5.0, 1.5, 2.0),\n",
       " (6.9, 3.2, 5.7, 2.3, 2.0),\n",
       " (5.6, 2.8, 4.9, 2.0, 2.0),\n",
       " (7.7, 2.8, 6.7, 2.0, 2.0),\n",
       " (6.3, 2.7, 4.9, 1.8, 2.0),\n",
       " (6.7, 3.3, 5.7, 2.1, 2.0),\n",
       " (7.2, 3.2, 6.0, 1.8, 2.0),\n",
       " (6.2, 2.8, 4.8, 1.8, 2.0),\n",
       " (6.1, 3.0, 4.9, 1.8, 2.0),\n",
       " (6.4, 2.8, 5.6, 2.1, 2.0),\n",
       " (7.2, 3.0, 5.8, 1.6, 2.0),\n",
       " (7.4, 2.8, 6.1, 1.9, 2.0),\n",
       " (7.9, 3.8, 6.4, 2.0, 2.0),\n",
       " (6.4, 2.8, 5.6, 2.2, 2.0),\n",
       " (6.3, 2.8, 5.1, 1.5, 2.0),\n",
       " (6.1, 2.6, 5.6, 1.4, 2.0),\n",
       " (7.7, 3.0, 6.1, 2.3, 2.0),\n",
       " (6.3, 3.4, 5.6, 2.4, 2.0),\n",
       " (6.4, 3.1, 5.5, 1.8, 2.0),\n",
       " (6.0, 3.0, 4.8, 1.8, 2.0),\n",
       " (6.9, 3.1, 5.4, 2.1, 2.0),\n",
       " (6.7, 3.1, 5.6, 2.4, 2.0),\n",
       " (6.9, 3.1, 5.1, 2.3, 2.0),\n",
       " (5.8, 2.7, 5.1, 1.9, 2.0),\n",
       " (6.8, 3.2, 5.9, 2.3, 2.0),\n",
       " (6.7, 3.3, 5.7, 2.5, 2.0),\n",
       " (6.7, 3.0, 5.2, 2.3, 2.0),\n",
       " (6.3, 2.5, 5.0, 1.9, 2.0),\n",
       " (6.5, 3.0, 5.2, 2.0, 2.0),\n",
       " (6.2, 3.4, 5.4, 2.3, 2.0),\n",
       " (5.9, 3.0, 5.1, 1.8, 2.0)]"
      ]
     },
     "execution_count": 6,
     "metadata": {},
     "output_type": "execute_result"
    }
   ],
   "source": [
    "from Classifier.utils.common import extract_workbench\n",
    "\n",
    "extract_workbench(z)"
   ]
  },
  {
   "cell_type": "code",
   "execution_count": 10,
   "metadata": {},
   "outputs": [
    {
     "name": "stdout",
     "output_type": "stream",
     "text": [
      "[2024-08-15 10:48:26,200: INFO: common: yaml file: config\\config.yaml loaded successfully]\n",
      "[2024-08-15 10:48:26,209: INFO: common: yaml file: params.yaml loaded successfully]\n",
      "[2024-08-15 10:48:26,210: INFO: common: created directory at: artifacts]\n"
     ]
    },
    {
     "data": {
      "text/plain": [
       "{'parameter_lr': {'algo__solver': ['liblinear', 'newton-cg'],\n",
       "  'algo__C': [0.001, 0.01, 0.1, 0.5, 1]}}"
      ]
     },
     "execution_count": 10,
     "metadata": {},
     "output_type": "execute_result"
    }
   ],
   "source": [
    "ConfigurationManager().get_data_training_config()"
   ]
  },
  {
   "cell_type": "code",
   "execution_count": 4,
   "metadata": {},
   "outputs": [
    {
     "name": "stdout",
     "output_type": "stream",
     "text": [
      "Predicciones: {'predictions': [0.0, 2.0]}\n"
     ]
    }
   ],
   "source": [
    "import requests\n",
    "\n",
    "url = 'http://localhost:5000/predict'\n",
    "data = {\n",
    "    \"inputs\": [\n",
    "        [5.1, 3.5, 1.4, 0.2],\n",
    "        [6.2, 3.4, 5.4, 2.3]\n",
    "    ]\n",
    "}\n",
    "\n",
    "response = requests.post(url, json=data)\n",
    "print(\"Predicciones:\", response.json())"
   ]
  }
 ],
 "metadata": {
  "kernelspec": {
   "display_name": "infraproy",
   "language": "python",
   "name": "python3"
  },
  "language_info": {
   "codemirror_mode": {
    "name": "ipython",
    "version": 3
   },
   "file_extension": ".py",
   "mimetype": "text/x-python",
   "name": "python",
   "nbconvert_exporter": "python",
   "pygments_lexer": "ipython3",
   "version": "3.9.13"
  }
 },
 "nbformat": 4,
 "nbformat_minor": 2
}
